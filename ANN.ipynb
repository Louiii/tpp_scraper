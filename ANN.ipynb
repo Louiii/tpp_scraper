{
 "cells": [
  {
   "cell_type": "markdown",
   "metadata": {},
   "source": [
    "# Importing Data"
   ]
  },
  {
   "cell_type": "markdown",
   "metadata": {},
   "source": [
    "Importing libraries:"
   ]
  },
  {
   "cell_type": "code",
   "execution_count": 3,
   "metadata": {},
   "outputs": [],
   "source": [
    "import numpy as np\n",
    "import matplotlib.pyplot as plt\n",
    "import pandas as pd\n",
    "from sklearn.preprocessing import LabelEncoder, OneHotEncoder\n",
    "from sklearn.model_selection import train_test_split\n",
    "from sklearn.preprocessing import StandardScaler\n",
    "from sklearn.metrics import confusion_matrix\n",
    "import keras\n",
    "from keras.models import Sequential\n",
    "from keras.layers import Dense"
   ]
  },
  {
   "cell_type": "markdown",
   "metadata": {},
   "source": [
    "Importing the dataset:"
   ]
  },
  {
   "cell_type": "code",
   "execution_count": 5,
   "metadata": {},
   "outputs": [
    {
     "ename": "FileNotFoundError",
     "evalue": "File b'Sodium-Hypertension.csv' does not exist",
     "output_type": "error",
     "traceback": [
      "\u001b[0;31m---------------------------------------------------------------------------\u001b[0m",
      "\u001b[0;31mFileNotFoundError\u001b[0m                         Traceback (most recent call last)",
      "\u001b[0;32m<ipython-input-5-c41f056ae50b>\u001b[0m in \u001b[0;36m<module>\u001b[0;34m()\u001b[0m\n\u001b[0;32m----> 1\u001b[0;31m \u001b[0mdataset\u001b[0m \u001b[0;34m=\u001b[0m \u001b[0mpd\u001b[0m\u001b[0;34m.\u001b[0m\u001b[0mread_csv\u001b[0m\u001b[0;34m(\u001b[0m\u001b[0;34m'Sodium-Hypertension.csv'\u001b[0m\u001b[0;34m)\u001b[0m\u001b[0;34m\u001b[0m\u001b[0m\n\u001b[0m\u001b[1;32m      2\u001b[0m \u001b[0mdataset\u001b[0m\u001b[0;34m.\u001b[0m\u001b[0mhead\u001b[0m\u001b[0;34m(\u001b[0m\u001b[0;34m)\u001b[0m\u001b[0;34m\u001b[0m\u001b[0m\n",
      "\u001b[0;32m~/anaconda3/lib/python3.5/site-packages/pandas/io/parsers.py\u001b[0m in \u001b[0;36mparser_f\u001b[0;34m(filepath_or_buffer, sep, delimiter, header, names, index_col, usecols, squeeze, prefix, mangle_dupe_cols, dtype, engine, converters, true_values, false_values, skipinitialspace, skiprows, nrows, na_values, keep_default_na, na_filter, verbose, skip_blank_lines, parse_dates, infer_datetime_format, keep_date_col, date_parser, dayfirst, iterator, chunksize, compression, thousands, decimal, lineterminator, quotechar, quoting, escapechar, comment, encoding, dialect, tupleize_cols, error_bad_lines, warn_bad_lines, skipfooter, doublequote, delim_whitespace, low_memory, memory_map, float_precision)\u001b[0m\n\u001b[1;32m    676\u001b[0m                     skip_blank_lines=skip_blank_lines)\n\u001b[1;32m    677\u001b[0m \u001b[0;34m\u001b[0m\u001b[0m\n\u001b[0;32m--> 678\u001b[0;31m         \u001b[0;32mreturn\u001b[0m \u001b[0m_read\u001b[0m\u001b[0;34m(\u001b[0m\u001b[0mfilepath_or_buffer\u001b[0m\u001b[0;34m,\u001b[0m \u001b[0mkwds\u001b[0m\u001b[0;34m)\u001b[0m\u001b[0;34m\u001b[0m\u001b[0m\n\u001b[0m\u001b[1;32m    679\u001b[0m \u001b[0;34m\u001b[0m\u001b[0m\n\u001b[1;32m    680\u001b[0m     \u001b[0mparser_f\u001b[0m\u001b[0;34m.\u001b[0m\u001b[0m__name__\u001b[0m \u001b[0;34m=\u001b[0m \u001b[0mname\u001b[0m\u001b[0;34m\u001b[0m\u001b[0m\n",
      "\u001b[0;32m~/anaconda3/lib/python3.5/site-packages/pandas/io/parsers.py\u001b[0m in \u001b[0;36m_read\u001b[0;34m(filepath_or_buffer, kwds)\u001b[0m\n\u001b[1;32m    438\u001b[0m \u001b[0;34m\u001b[0m\u001b[0m\n\u001b[1;32m    439\u001b[0m     \u001b[0;31m# Create the parser.\u001b[0m\u001b[0;34m\u001b[0m\u001b[0;34m\u001b[0m\u001b[0m\n\u001b[0;32m--> 440\u001b[0;31m     \u001b[0mparser\u001b[0m \u001b[0;34m=\u001b[0m \u001b[0mTextFileReader\u001b[0m\u001b[0;34m(\u001b[0m\u001b[0mfilepath_or_buffer\u001b[0m\u001b[0;34m,\u001b[0m \u001b[0;34m**\u001b[0m\u001b[0mkwds\u001b[0m\u001b[0;34m)\u001b[0m\u001b[0;34m\u001b[0m\u001b[0m\n\u001b[0m\u001b[1;32m    441\u001b[0m \u001b[0;34m\u001b[0m\u001b[0m\n\u001b[1;32m    442\u001b[0m     \u001b[0;32mif\u001b[0m \u001b[0mchunksize\u001b[0m \u001b[0;32mor\u001b[0m \u001b[0miterator\u001b[0m\u001b[0;34m:\u001b[0m\u001b[0;34m\u001b[0m\u001b[0m\n",
      "\u001b[0;32m~/anaconda3/lib/python3.5/site-packages/pandas/io/parsers.py\u001b[0m in \u001b[0;36m__init__\u001b[0;34m(self, f, engine, **kwds)\u001b[0m\n\u001b[1;32m    785\u001b[0m             \u001b[0mself\u001b[0m\u001b[0;34m.\u001b[0m\u001b[0moptions\u001b[0m\u001b[0;34m[\u001b[0m\u001b[0;34m'has_index_names'\u001b[0m\u001b[0;34m]\u001b[0m \u001b[0;34m=\u001b[0m \u001b[0mkwds\u001b[0m\u001b[0;34m[\u001b[0m\u001b[0;34m'has_index_names'\u001b[0m\u001b[0;34m]\u001b[0m\u001b[0;34m\u001b[0m\u001b[0m\n\u001b[1;32m    786\u001b[0m \u001b[0;34m\u001b[0m\u001b[0m\n\u001b[0;32m--> 787\u001b[0;31m         \u001b[0mself\u001b[0m\u001b[0;34m.\u001b[0m\u001b[0m_make_engine\u001b[0m\u001b[0;34m(\u001b[0m\u001b[0mself\u001b[0m\u001b[0;34m.\u001b[0m\u001b[0mengine\u001b[0m\u001b[0;34m)\u001b[0m\u001b[0;34m\u001b[0m\u001b[0m\n\u001b[0m\u001b[1;32m    788\u001b[0m \u001b[0;34m\u001b[0m\u001b[0m\n\u001b[1;32m    789\u001b[0m     \u001b[0;32mdef\u001b[0m \u001b[0mclose\u001b[0m\u001b[0;34m(\u001b[0m\u001b[0mself\u001b[0m\u001b[0;34m)\u001b[0m\u001b[0;34m:\u001b[0m\u001b[0;34m\u001b[0m\u001b[0m\n",
      "\u001b[0;32m~/anaconda3/lib/python3.5/site-packages/pandas/io/parsers.py\u001b[0m in \u001b[0;36m_make_engine\u001b[0;34m(self, engine)\u001b[0m\n\u001b[1;32m   1012\u001b[0m     \u001b[0;32mdef\u001b[0m \u001b[0m_make_engine\u001b[0m\u001b[0;34m(\u001b[0m\u001b[0mself\u001b[0m\u001b[0;34m,\u001b[0m \u001b[0mengine\u001b[0m\u001b[0;34m=\u001b[0m\u001b[0;34m'c'\u001b[0m\u001b[0;34m)\u001b[0m\u001b[0;34m:\u001b[0m\u001b[0;34m\u001b[0m\u001b[0m\n\u001b[1;32m   1013\u001b[0m         \u001b[0;32mif\u001b[0m \u001b[0mengine\u001b[0m \u001b[0;34m==\u001b[0m \u001b[0;34m'c'\u001b[0m\u001b[0;34m:\u001b[0m\u001b[0;34m\u001b[0m\u001b[0m\n\u001b[0;32m-> 1014\u001b[0;31m             \u001b[0mself\u001b[0m\u001b[0;34m.\u001b[0m\u001b[0m_engine\u001b[0m \u001b[0;34m=\u001b[0m \u001b[0mCParserWrapper\u001b[0m\u001b[0;34m(\u001b[0m\u001b[0mself\u001b[0m\u001b[0;34m.\u001b[0m\u001b[0mf\u001b[0m\u001b[0;34m,\u001b[0m \u001b[0;34m**\u001b[0m\u001b[0mself\u001b[0m\u001b[0;34m.\u001b[0m\u001b[0moptions\u001b[0m\u001b[0;34m)\u001b[0m\u001b[0;34m\u001b[0m\u001b[0m\n\u001b[0m\u001b[1;32m   1015\u001b[0m         \u001b[0;32melse\u001b[0m\u001b[0;34m:\u001b[0m\u001b[0;34m\u001b[0m\u001b[0m\n\u001b[1;32m   1016\u001b[0m             \u001b[0;32mif\u001b[0m \u001b[0mengine\u001b[0m \u001b[0;34m==\u001b[0m \u001b[0;34m'python'\u001b[0m\u001b[0;34m:\u001b[0m\u001b[0;34m\u001b[0m\u001b[0m\n",
      "\u001b[0;32m~/anaconda3/lib/python3.5/site-packages/pandas/io/parsers.py\u001b[0m in \u001b[0;36m__init__\u001b[0;34m(self, src, **kwds)\u001b[0m\n\u001b[1;32m   1706\u001b[0m         \u001b[0mkwds\u001b[0m\u001b[0;34m[\u001b[0m\u001b[0;34m'usecols'\u001b[0m\u001b[0;34m]\u001b[0m \u001b[0;34m=\u001b[0m \u001b[0mself\u001b[0m\u001b[0;34m.\u001b[0m\u001b[0musecols\u001b[0m\u001b[0;34m\u001b[0m\u001b[0m\n\u001b[1;32m   1707\u001b[0m \u001b[0;34m\u001b[0m\u001b[0m\n\u001b[0;32m-> 1708\u001b[0;31m         \u001b[0mself\u001b[0m\u001b[0;34m.\u001b[0m\u001b[0m_reader\u001b[0m \u001b[0;34m=\u001b[0m \u001b[0mparsers\u001b[0m\u001b[0;34m.\u001b[0m\u001b[0mTextReader\u001b[0m\u001b[0;34m(\u001b[0m\u001b[0msrc\u001b[0m\u001b[0;34m,\u001b[0m \u001b[0;34m**\u001b[0m\u001b[0mkwds\u001b[0m\u001b[0;34m)\u001b[0m\u001b[0;34m\u001b[0m\u001b[0m\n\u001b[0m\u001b[1;32m   1709\u001b[0m \u001b[0;34m\u001b[0m\u001b[0m\n\u001b[1;32m   1710\u001b[0m         \u001b[0mpassed_names\u001b[0m \u001b[0;34m=\u001b[0m \u001b[0mself\u001b[0m\u001b[0;34m.\u001b[0m\u001b[0mnames\u001b[0m \u001b[0;32mis\u001b[0m \u001b[0;32mNone\u001b[0m\u001b[0;34m\u001b[0m\u001b[0m\n",
      "\u001b[0;32mpandas/_libs/parsers.pyx\u001b[0m in \u001b[0;36mpandas._libs.parsers.TextReader.__cinit__\u001b[0;34m()\u001b[0m\n",
      "\u001b[0;32mpandas/_libs/parsers.pyx\u001b[0m in \u001b[0;36mpandas._libs.parsers.TextReader._setup_parser_source\u001b[0;34m()\u001b[0m\n",
      "\u001b[0;31mFileNotFoundError\u001b[0m: File b'Sodium-Hypertension.csv' does not exist"
     ]
    }
   ],
   "source": [
    "dataset = pd.read_csv('DataSodium-Hypertension.csv')\n",
    "dataset.head()"
   ]
  },
  {
   "cell_type": "code",
   "execution_count": 3,
   "metadata": {},
   "outputs": [
    {
     "data": {
      "text/plain": [
       "762"
      ]
     },
     "execution_count": 3,
     "metadata": {},
     "output_type": "execute_result"
    }
   ],
   "source": [
    "(n, p) = dataset.shape\n",
    "y_col = 2\n",
    "li = list(range(y_col))+list(range(y_col+1, p))\n",
    "X = dataset.iloc[:, li].values\n",
    "y = dataset.iloc[:, y_col].values\n",
    "len(X)"
   ]
  },
  {
   "cell_type": "markdown",
   "metadata": {},
   "source": [
    "Encoding categorical data:"
   ]
  },
  {
   "cell_type": "code",
   "execution_count": 4,
   "metadata": {},
   "outputs": [
    {
     "data": {
      "text/plain": [
       "762"
      ]
     },
     "execution_count": 4,
     "metadata": {},
     "output_type": "execute_result"
    }
   ],
   "source": [
    "# for i in range(2,p-1):\n",
    "#     for j in range(n):\n",
    "#         X[j, i] = float(X[j, i])\n",
    "#     labelencoder_X = LabelEncoder()\n",
    "#     X[:, i] = labelencoder_X.fit_transform(X[:, i])\n",
    "# onehotencoder = OneHotEncoder(categorical_features = [1])\n",
    "# X = onehotencoder.fit_transform(X).toarray()\n",
    "# X = X[:, 1:]\n",
    "# onehotencoder = OneHotEncoder(categorical_features = [1])\n",
    "# X = onehotencoder.fit_transform(X).toarray()"
   ]
  },
  {
   "cell_type": "markdown",
   "metadata": {},
   "source": [
    "Split the dataset into a Training set and Test set:"
   ]
  },
  {
   "cell_type": "code",
   "execution_count": 5,
   "metadata": {},
   "outputs": [],
   "source": [
    "X_train, X_test, y_train, y_test = train_test_split(X, y, test_size = 0.2, random_state = 0)"
   ]
  },
  {
   "cell_type": "markdown",
   "metadata": {},
   "source": [
    "Feature scale X:"
   ]
  },
  {
   "cell_type": "code",
   "execution_count": 6,
   "metadata": {},
   "outputs": [],
   "source": [
    "sc = StandardScaler()\n",
    "X_train = sc.fit_transform(X_train)\n",
    "X_test = sc.transform(X_test)"
   ]
  },
  {
   "cell_type": "markdown",
   "metadata": {},
   "source": [
    "# Artificial Neural Network (fully connected)"
   ]
  },
  {
   "cell_type": "markdown",
   "metadata": {},
   "source": [
    "Initialising the ANN:"
   ]
  },
  {
   "cell_type": "code",
   "execution_count": 7,
   "metadata": {},
   "outputs": [],
   "source": [
    "classifier = Sequential()"
   ]
  },
  {
   "cell_type": "markdown",
   "metadata": {},
   "source": [
    "Adding the input layer and the first hidden layer, second hidden layer, output layer:"
   ]
  },
  {
   "cell_type": "code",
   "execution_count": 8,
   "metadata": {},
   "outputs": [
    {
     "name": "stderr",
     "output_type": "stream",
     "text": [
      "/Users/louisrobinson/anaconda3/lib/python3.5/site-packages/ipykernel_launcher.py:1: UserWarning: Update your `Dense` call to the Keras 2 API: `Dense(activation=\"relu\", input_dim=6, units=4, kernel_initializer=\"uniform\")`\n",
      "  \"\"\"Entry point for launching an IPython kernel.\n",
      "/Users/louisrobinson/anaconda3/lib/python3.5/site-packages/ipykernel_launcher.py:2: UserWarning: Update your `Dense` call to the Keras 2 API: `Dense(activation=\"relu\", units=4, kernel_initializer=\"uniform\")`\n",
      "  \n",
      "/Users/louisrobinson/anaconda3/lib/python3.5/site-packages/ipykernel_launcher.py:3: UserWarning: Update your `Dense` call to the Keras 2 API: `Dense(activation=\"sigmoid\", units=1, kernel_initializer=\"uniform\")`\n",
      "  This is separate from the ipykernel package so we can avoid doing imports until\n"
     ]
    }
   ],
   "source": [
    "classifier.add(Dense(output_dim = 4, init = 'uniform', activation = 'relu', input_dim = p-1))\n",
    "classifier.add(Dense(output_dim = 4, init = 'uniform', activation = 'relu'))\n",
    "classifier.add(Dense(output_dim = 1, init = 'uniform', activation = 'sigmoid'))"
   ]
  },
  {
   "cell_type": "markdown",
   "metadata": {},
   "source": [
    "Compiling the ANN:"
   ]
  },
  {
   "cell_type": "code",
   "execution_count": 9,
   "metadata": {},
   "outputs": [],
   "source": [
    "classifier.compile(optimizer = 'adam', loss = 'binary_crossentropy', metrics = ['accuracy'])"
   ]
  },
  {
   "cell_type": "markdown",
   "metadata": {},
   "source": [
    "Fitting the ANN to the Training set:"
   ]
  },
  {
   "cell_type": "code",
   "execution_count": 10,
   "metadata": {},
   "outputs": [
    {
     "name": "stderr",
     "output_type": "stream",
     "text": [
      "/Users/louisrobinson/anaconda3/lib/python3.5/site-packages/ipykernel_launcher.py:1: UserWarning: The `nb_epoch` argument in `fit` has been renamed `epochs`.\n",
      "  \"\"\"Entry point for launching an IPython kernel.\n"
     ]
    },
    {
     "name": "stdout",
     "output_type": "stream",
     "text": [
      "Epoch 1/100\n",
      "609/609 [==============================] - 0s 576us/step - loss: 0.6778 - acc: 0.9294\n",
      "Epoch 2/100\n",
      "609/609 [==============================] - 0s 112us/step - loss: 0.6280 - acc: 0.9392\n",
      "Epoch 3/100\n",
      "609/609 [==============================] - 0s 115us/step - loss: 0.5318 - acc: 0.9392\n",
      "Epoch 4/100\n",
      "609/609 [==============================] - 0s 114us/step - loss: 0.4020 - acc: 0.9392\n",
      "Epoch 5/100\n",
      "609/609 [==============================] - 0s 114us/step - loss: 0.2899 - acc: 0.9392\n",
      "Epoch 6/100\n",
      "609/609 [==============================] - 0s 120us/step - loss: 0.2198 - acc: 0.9392\n",
      "Epoch 7/100\n",
      "609/609 [==============================] - 0s 120us/step - loss: 0.1783 - acc: 0.9392\n",
      "Epoch 8/100\n",
      "609/609 [==============================] - 0s 113us/step - loss: 0.1515 - acc: 0.9392\n",
      "Epoch 9/100\n",
      "609/609 [==============================] - 0s 130us/step - loss: 0.1324 - acc: 0.9392\n",
      "Epoch 10/100\n",
      "609/609 [==============================] - 0s 139us/step - loss: 0.1180 - acc: 0.9392\n",
      "Epoch 11/100\n",
      "609/609 [==============================] - 0s 137us/step - loss: 0.1068 - acc: 0.9392\n",
      "Epoch 12/100\n",
      "609/609 [==============================] - 0s 135us/step - loss: 0.0987 - acc: 0.9392\n",
      "Epoch 13/100\n",
      "609/609 [==============================] - 0s 135us/step - loss: 0.0921 - acc: 0.9392\n",
      "Epoch 14/100\n",
      "609/609 [==============================] - 0s 147us/step - loss: 0.0868 - acc: 0.9392\n",
      "Epoch 15/100\n",
      "609/609 [==============================] - 0s 143us/step - loss: 0.0822 - acc: 0.9392\n",
      "Epoch 16/100\n",
      "609/609 [==============================] - 0s 139us/step - loss: 0.0781 - acc: 0.9392\n",
      "Epoch 17/100\n",
      "609/609 [==============================] - 0s 136us/step - loss: 0.0745 - acc: 0.9392\n",
      "Epoch 18/100\n",
      "609/609 [==============================] - 0s 137us/step - loss: 0.0711 - acc: 0.9392\n",
      "Epoch 19/100\n",
      "609/609 [==============================] - 0s 136us/step - loss: 0.0679 - acc: 0.9392\n",
      "Epoch 20/100\n",
      "609/609 [==============================] - 0s 133us/step - loss: 0.0649 - acc: 0.9392\n",
      "Epoch 21/100\n",
      "609/609 [==============================] - 0s 135us/step - loss: 0.0620 - acc: 0.9392\n",
      "Epoch 22/100\n",
      "609/609 [==============================] - 0s 133us/step - loss: 0.0592 - acc: 0.9392\n",
      "Epoch 23/100\n",
      "609/609 [==============================] - 0s 131us/step - loss: 0.0564 - acc: 0.9392\n",
      "Epoch 24/100\n",
      "609/609 [==============================] - 0s 133us/step - loss: 0.0539 - acc: 0.9392\n",
      "Epoch 25/100\n",
      "609/609 [==============================] - 0s 132us/step - loss: 0.0512 - acc: 0.9392\n",
      "Epoch 26/100\n",
      "609/609 [==============================] - 0s 136us/step - loss: 0.0487 - acc: 0.9392\n",
      "Epoch 27/100\n",
      "609/609 [==============================] - 0s 141us/step - loss: 0.0469 - acc: 0.9392\n",
      "Epoch 28/100\n",
      "609/609 [==============================] - 0s 127us/step - loss: 0.0460 - acc: 0.9392\n",
      "Epoch 29/100\n",
      "609/609 [==============================] - 0s 125us/step - loss: 0.0452 - acc: 0.9392\n",
      "Epoch 30/100\n",
      "609/609 [==============================] - 0s 121us/step - loss: 0.0444 - acc: 0.9392\n",
      "Epoch 31/100\n",
      "609/609 [==============================] - 0s 122us/step - loss: 0.0437 - acc: 0.9737\n",
      "Epoch 32/100\n",
      "609/609 [==============================] - 0s 137us/step - loss: 0.0430 - acc: 1.0000\n",
      "Epoch 33/100\n",
      "609/609 [==============================] - 0s 147us/step - loss: 0.0423 - acc: 1.0000\n",
      "Epoch 34/100\n",
      "609/609 [==============================] - 0s 144us/step - loss: 0.0416 - acc: 1.0000\n",
      "Epoch 35/100\n",
      "609/609 [==============================] - 0s 141us/step - loss: 0.0410 - acc: 1.0000\n",
      "Epoch 36/100\n",
      "609/609 [==============================] - 0s 136us/step - loss: 0.0403 - acc: 1.0000\n",
      "Epoch 37/100\n",
      "609/609 [==============================] - 0s 135us/step - loss: 0.0396 - acc: 1.0000\n",
      "Epoch 38/100\n",
      "609/609 [==============================] - 0s 142us/step - loss: 0.0390 - acc: 1.0000\n",
      "Epoch 39/100\n",
      "609/609 [==============================] - 0s 143us/step - loss: 0.0384 - acc: 1.0000\n",
      "Epoch 40/100\n",
      "609/609 [==============================] - 0s 143us/step - loss: 0.0377 - acc: 1.0000\n",
      "Epoch 41/100\n",
      "609/609 [==============================] - 0s 140us/step - loss: 0.0371 - acc: 1.0000\n",
      "Epoch 42/100\n",
      "609/609 [==============================] - 0s 165us/step - loss: 0.0365 - acc: 1.0000\n",
      "Epoch 43/100\n",
      "609/609 [==============================] - 0s 163us/step - loss: 0.0359 - acc: 1.0000\n",
      "Epoch 44/100\n",
      "609/609 [==============================] - 0s 167us/step - loss: 0.0352 - acc: 1.0000\n",
      "Epoch 45/100\n",
      "609/609 [==============================] - 0s 157us/step - loss: 0.0346 - acc: 1.0000\n",
      "Epoch 46/100\n",
      "609/609 [==============================] - 0s 143us/step - loss: 0.0340 - acc: 1.0000\n",
      "Epoch 47/100\n",
      "609/609 [==============================] - 0s 152us/step - loss: 0.0334 - acc: 1.0000\n",
      "Epoch 48/100\n",
      "609/609 [==============================] - 0s 131us/step - loss: 0.0328 - acc: 1.0000\n",
      "Epoch 49/100\n",
      "609/609 [==============================] - 0s 133us/step - loss: 0.0322 - acc: 1.0000\n",
      "Epoch 50/100\n",
      "609/609 [==============================] - 0s 133us/step - loss: 0.0316 - acc: 1.0000\n",
      "Epoch 51/100\n",
      "609/609 [==============================] - 0s 137us/step - loss: 0.0311 - acc: 1.0000\n",
      "Epoch 52/100\n",
      "609/609 [==============================] - 0s 127us/step - loss: 0.0305 - acc: 1.0000\n",
      "Epoch 53/100\n",
      "609/609 [==============================] - 0s 120us/step - loss: 0.0299 - acc: 1.0000\n",
      "Epoch 54/100\n",
      "609/609 [==============================] - 0s 114us/step - loss: 0.0294 - acc: 1.0000\n",
      "Epoch 55/100\n",
      "609/609 [==============================] - 0s 111us/step - loss: 0.0288 - acc: 1.0000\n",
      "Epoch 56/100\n",
      "609/609 [==============================] - 0s 113us/step - loss: 0.0282 - acc: 1.0000\n",
      "Epoch 57/100\n",
      "609/609 [==============================] - 0s 117us/step - loss: 0.0277 - acc: 1.0000\n",
      "Epoch 58/100\n",
      "609/609 [==============================] - 0s 124us/step - loss: 0.0271 - acc: 1.0000\n",
      "Epoch 59/100\n",
      "609/609 [==============================] - 0s 123us/step - loss: 0.0266 - acc: 1.0000\n",
      "Epoch 60/100\n",
      "609/609 [==============================] - 0s 127us/step - loss: 0.0261 - acc: 1.0000\n",
      "Epoch 61/100\n",
      "609/609 [==============================] - 0s 132us/step - loss: 0.0256 - acc: 1.0000\n",
      "Epoch 62/100\n",
      "609/609 [==============================] - 0s 130us/step - loss: 0.0251 - acc: 1.0000\n",
      "Epoch 63/100\n",
      "609/609 [==============================] - 0s 132us/step - loss: 0.0246 - acc: 1.0000\n",
      "Epoch 64/100\n",
      "609/609 [==============================] - 0s 140us/step - loss: 0.0241 - acc: 1.0000\n",
      "Epoch 65/100\n",
      "609/609 [==============================] - 0s 148us/step - loss: 0.0236 - acc: 1.0000\n",
      "Epoch 66/100\n",
      "609/609 [==============================] - 0s 148us/step - loss: 0.0231 - acc: 1.0000\n",
      "Epoch 67/100\n",
      "609/609 [==============================] - 0s 133us/step - loss: 0.0226 - acc: 1.0000\n",
      "Epoch 68/100\n",
      "609/609 [==============================] - 0s 127us/step - loss: 0.0221 - acc: 1.0000\n",
      "Epoch 69/100\n",
      "609/609 [==============================] - 0s 128us/step - loss: 0.0217 - acc: 1.0000\n",
      "Epoch 70/100\n",
      "609/609 [==============================] - 0s 124us/step - loss: 0.0212 - acc: 1.0000\n",
      "Epoch 71/100\n",
      "609/609 [==============================] - 0s 115us/step - loss: 0.0208 - acc: 1.0000\n",
      "Epoch 72/100\n",
      "609/609 [==============================] - 0s 119us/step - loss: 0.0204 - acc: 1.0000\n",
      "Epoch 73/100\n",
      "609/609 [==============================] - 0s 128us/step - loss: 0.0199 - acc: 1.0000\n",
      "Epoch 74/100\n",
      "609/609 [==============================] - 0s 136us/step - loss: 0.0195 - acc: 1.0000\n",
      "Epoch 75/100\n",
      "609/609 [==============================] - 0s 148us/step - loss: 0.0191 - acc: 1.0000\n",
      "Epoch 76/100\n",
      "609/609 [==============================] - 0s 133us/step - loss: 0.0187 - acc: 1.0000\n",
      "Epoch 77/100\n",
      "609/609 [==============================] - 0s 121us/step - loss: 0.0183 - acc: 1.0000\n",
      "Epoch 78/100\n",
      "609/609 [==============================] - 0s 122us/step - loss: 0.0179 - acc: 1.0000\n",
      "Epoch 79/100\n",
      "609/609 [==============================] - 0s 124us/step - loss: 0.0175 - acc: 1.0000\n",
      "Epoch 80/100\n",
      "609/609 [==============================] - 0s 128us/step - loss: 0.0171 - acc: 1.0000\n",
      "Epoch 81/100\n",
      "609/609 [==============================] - 0s 130us/step - loss: 0.0168 - acc: 1.0000\n",
      "Epoch 82/100\n",
      "609/609 [==============================] - 0s 144us/step - loss: 0.0164 - acc: 1.0000\n",
      "Epoch 83/100\n",
      "609/609 [==============================] - 0s 133us/step - loss: 0.0161 - acc: 1.0000\n",
      "Epoch 84/100\n",
      "609/609 [==============================] - 0s 129us/step - loss: 0.0157 - acc: 1.0000\n",
      "Epoch 85/100\n",
      "609/609 [==============================] - 0s 116us/step - loss: 0.0154 - acc: 1.0000\n",
      "Epoch 86/100\n",
      "609/609 [==============================] - 0s 113us/step - loss: 0.0151 - acc: 1.0000\n",
      "Epoch 87/100\n",
      "609/609 [==============================] - 0s 133us/step - loss: 0.0147 - acc: 1.0000\n",
      "Epoch 88/100\n",
      "609/609 [==============================] - 0s 148us/step - loss: 0.0144 - acc: 1.0000\n",
      "Epoch 89/100\n",
      "609/609 [==============================] - 0s 130us/step - loss: 0.0141 - acc: 1.0000\n",
      "Epoch 90/100\n",
      "609/609 [==============================] - 0s 134us/step - loss: 0.0138 - acc: 1.0000\n",
      "Epoch 91/100\n",
      "609/609 [==============================] - 0s 133us/step - loss: 0.0135 - acc: 1.0000\n",
      "Epoch 92/100\n",
      "609/609 [==============================] - 0s 133us/step - loss: 0.0132 - acc: 1.0000\n",
      "Epoch 93/100\n",
      "609/609 [==============================] - 0s 121us/step - loss: 0.0129 - acc: 1.0000\n",
      "Epoch 94/100\n",
      "609/609 [==============================] - 0s 140us/step - loss: 0.0126 - acc: 1.0000\n",
      "Epoch 95/100\n",
      "609/609 [==============================] - 0s 136us/step - loss: 0.0124 - acc: 1.0000\n",
      "Epoch 96/100\n",
      "609/609 [==============================] - 0s 120us/step - loss: 0.0121 - acc: 1.0000\n",
      "Epoch 97/100\n",
      "609/609 [==============================] - 0s 110us/step - loss: 0.0118 - acc: 1.0000\n",
      "Epoch 98/100\n",
      "609/609 [==============================] - 0s 113us/step - loss: 0.0116 - acc: 1.0000\n",
      "Epoch 99/100\n",
      "609/609 [==============================] - 0s 121us/step - loss: 0.0113 - acc: 1.0000\n",
      "Epoch 100/100\n",
      "609/609 [==============================] - 0s 135us/step - loss: 0.0111 - acc: 1.0000\n"
     ]
    },
    {
     "data": {
      "text/plain": [
       "<keras.callbacks.History at 0x1a1e1ced68>"
      ]
     },
     "execution_count": 10,
     "metadata": {},
     "output_type": "execute_result"
    }
   ],
   "source": [
    "classifier.fit(X_train, y_train, batch_size = 10, nb_epoch = 100)"
   ]
  },
  {
   "cell_type": "markdown",
   "metadata": {},
   "source": [
    "# Results"
   ]
  },
  {
   "cell_type": "markdown",
   "metadata": {},
   "source": [
    "Test set results:"
   ]
  },
  {
   "cell_type": "code",
   "execution_count": 11,
   "metadata": {},
   "outputs": [],
   "source": [
    "y_pred = classifier.predict(X_test)\n",
    "y_pred = (y_pred > 0.5)"
   ]
  },
  {
   "cell_type": "markdown",
   "metadata": {},
   "source": [
    "Confusion Matrix:"
   ]
  },
  {
   "cell_type": "markdown",
   "metadata": {},
   "source": [
    "$\n",
    "| ----- | - Predicted True - | - Predicted False - |\\\\\n",
    "| Actual True |\\\\\n",
    "| Actual False |\n",
    "$"
   ]
  },
  {
   "cell_type": "code",
   "execution_count": 12,
   "metadata": {},
   "outputs": [
    {
     "data": {
      "text/plain": [
       "array([[141,   0],\n",
       "       [  0,  12]])"
      ]
     },
     "execution_count": 12,
     "metadata": {},
     "output_type": "execute_result"
    }
   ],
   "source": [
    "cm = confusion_matrix(y_test, y_pred)\n",
    "cm"
   ]
  },
  {
   "cell_type": "code",
   "execution_count": 1,
   "metadata": {},
   "outputs": [
    {
     "ename": "NameError",
     "evalue": "name 'cm' is not defined",
     "output_type": "error",
     "traceback": [
      "\u001b[0;31m---------------------------------------------------------------------------\u001b[0m",
      "\u001b[0;31mNameError\u001b[0m                                 Traceback (most recent call last)",
      "\u001b[0;32m<ipython-input-1-51fa772bde41>\u001b[0m in \u001b[0;36m<module>\u001b[0;34m()\u001b[0m\n\u001b[0;32m----> 1\u001b[0;31m \u001b[0mTN\u001b[0m\u001b[0;34m,\u001b[0m \u001b[0mFP\u001b[0m \u001b[0;34m=\u001b[0m \u001b[0mcm\u001b[0m\u001b[0;34m[\u001b[0m\u001b[0;36m0\u001b[0m\u001b[0;34m]\u001b[0m\u001b[0;34m[\u001b[0m\u001b[0;36m0\u001b[0m\u001b[0;34m]\u001b[0m\u001b[0;34m,\u001b[0m \u001b[0mcm\u001b[0m\u001b[0;34m[\u001b[0m\u001b[0;36m0\u001b[0m\u001b[0;34m]\u001b[0m\u001b[0;34m[\u001b[0m\u001b[0;36m1\u001b[0m\u001b[0;34m]\u001b[0m\u001b[0;34m\u001b[0m\u001b[0m\n\u001b[0m\u001b[1;32m      2\u001b[0m \u001b[0mFN\u001b[0m\u001b[0;34m,\u001b[0m \u001b[0mTP\u001b[0m \u001b[0;34m=\u001b[0m \u001b[0mcm\u001b[0m\u001b[0;34m[\u001b[0m\u001b[0;36m1\u001b[0m\u001b[0;34m]\u001b[0m\u001b[0;34m[\u001b[0m\u001b[0;36m0\u001b[0m\u001b[0;34m]\u001b[0m\u001b[0;34m,\u001b[0m \u001b[0mcm\u001b[0m\u001b[0;34m[\u001b[0m\u001b[0;36m1\u001b[0m\u001b[0;34m]\u001b[0m\u001b[0;34m[\u001b[0m\u001b[0;36m1\u001b[0m\u001b[0;34m]\u001b[0m\u001b[0;34m\u001b[0m\u001b[0m\n\u001b[1;32m      3\u001b[0m \u001b[0mtotal\u001b[0m \u001b[0;34m=\u001b[0m \u001b[0mTN\u001b[0m\u001b[0;34m+\u001b[0m\u001b[0mFP\u001b[0m\u001b[0;34m+\u001b[0m\u001b[0mFN\u001b[0m\u001b[0;34m+\u001b[0m\u001b[0mTP\u001b[0m\u001b[0;34m\u001b[0m\u001b[0m\n\u001b[1;32m      4\u001b[0m \u001b[0mprint\u001b[0m\u001b[0;34m(\u001b[0m\u001b[0;34m'Predicted number of people with '\u001b[0m\u001b[0;34m+\u001b[0m\u001b[0mresponse\u001b[0m\u001b[0;34m+\u001b[0m\u001b[0;34m' is '\u001b[0m\u001b[0;34m+\u001b[0m\u001b[0mstr\u001b[0m\u001b[0;34m(\u001b[0m\u001b[0mFP\u001b[0m\u001b[0;34m+\u001b[0m\u001b[0mTP\u001b[0m\u001b[0;34m)\u001b[0m\u001b[0;34m)\u001b[0m\u001b[0;34m\u001b[0m\u001b[0m\n\u001b[1;32m      5\u001b[0m \u001b[0mprint\u001b[0m\u001b[0;34m(\u001b[0m\u001b[0;34m'Predicted number of people not with '\u001b[0m\u001b[0;34m+\u001b[0m\u001b[0mresponse\u001b[0m\u001b[0;34m+\u001b[0m\u001b[0;34m' is '\u001b[0m\u001b[0;34m+\u001b[0m\u001b[0mstr\u001b[0m\u001b[0;34m(\u001b[0m\u001b[0mTN\u001b[0m\u001b[0;34m+\u001b[0m\u001b[0mFN\u001b[0m\u001b[0;34m)\u001b[0m\u001b[0;34m)\u001b[0m\u001b[0;34m\u001b[0m\u001b[0m\n",
      "\u001b[0;31mNameError\u001b[0m: name 'cm' is not defined"
     ]
    }
   ],
   "source": [
    "TN, FP = cm[0][0], cm[0][1]\n",
    "FN, TP = cm[1][0], cm[1][1]\n",
    "total = TN+FP+FN+TP\n",
    "print('Predicted number of people with '+response+' is '+str(FP+TP))\n",
    "print('Predicted number of people not with '+response+' is '+str(TN+FN))\n",
    "print('Actual number of people with '+response+' is '+str(FN+TP))\n",
    "print('Actual number of people not with '+response+' is '+str(TN+FP))\n",
    "print('Accuracy = '+str((TP+TN)/total))\n",
    "print('True Positive Rate = '+str(TP/(FN+TP)))\n",
    "print('False Positive Rate = '+str(FP/(TN+FP)))\n",
    "print('True Negative Rate = '+str(TN/(TN+FP)))\n",
    "print('Precision = '+str(TP/(FP+TP)))\n",
    "print('Prevalence = '+str((FN+TP)/total))"
   ]
  }
 ],
 "metadata": {
  "kernelspec": {
   "display_name": "Python 3",
   "language": "python",
   "name": "python3"
  },
  "language_info": {
   "codemirror_mode": {
    "name": "ipython",
    "version": 3
   },
   "file_extension": ".py",
   "mimetype": "text/x-python",
   "name": "python",
   "nbconvert_exporter": "python",
   "pygments_lexer": "ipython3",
   "version": "3.5.6"
  }
 },
 "nbformat": 4,
 "nbformat_minor": 2
}
